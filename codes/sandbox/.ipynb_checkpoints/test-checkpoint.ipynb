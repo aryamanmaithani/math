{
 "cells": [
  {
   "cell_type": "code",
   "execution_count": null,
   "id": "57586c58",
   "metadata": {},
   "outputs": [],
   "source": [
    "with open(\"test.txt\", \"r\") as fp:\n",
    "    for line in fp:\n",
    "        edges = eval(line.strip())\n",
    "        G = Graph(edges)\n",
    "        print(G.complement().is_chordal())"
   ]
  }
 ],
 "metadata": {
  "kernelspec": {
   "display_name": "SageMath 10.1",
   "language": "sage",
   "name": "sagemath"
  },
  "language_info": {
   "codemirror_mode": {
    "name": "ipython",
    "version": 3
   },
   "file_extension": ".py",
   "mimetype": "text/x-python",
   "name": "python",
   "nbconvert_exporter": "python",
   "pygments_lexer": "ipython3",
   "version": "3.11.1"
  }
 },
 "nbformat": 4,
 "nbformat_minor": 5
}
